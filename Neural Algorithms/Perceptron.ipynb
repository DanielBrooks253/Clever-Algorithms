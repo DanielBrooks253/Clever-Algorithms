{
 "cells": [
  {
   "cell_type": "code",
   "execution_count": 104,
   "metadata": {},
   "outputs": [],
   "source": [
    "import random"
   ]
  },
  {
   "cell_type": "code",
   "execution_count": 105,
   "metadata": {},
   "outputs": [],
   "source": [
    "def random_vector(minmax):\r\n",
    "    return [i[0]+((i[1]-i[0])*random.random()) for i in minmax]\r\n",
    "\r\n",
    "def initialize_weights(problem_size):\r\n",
    "    minmax = [[-1.0, 1.0] for i in range(problem_size + 1)]\r\n",
    "    return random_vector(minmax)\r\n",
    "\r\n",
    "def activate(weights, vector):\r\n",
    "    sums = weights[(len(weights)-1)] * 1.0\r\n",
    "    for i,inputs in enumerate(vector):\r\n",
    "        sums += weights[i]*inputs\r\n",
    "\r\n",
    "    return sums\r\n",
    "\r\n",
    "def transfer(activation):\r\n",
    "    if activation >= 0:\r\n",
    "        return 1\r\n",
    "    else:\r\n",
    "        return 0\r\n",
    "\r\n",
    "def get_output(weights, vector):\r\n",
    "    activation = activate(weights, vector)\r\n",
    "    return transfer(activation)\r\n",
    "\r\n",
    "def update_weights(num_inputs, weights, inputs, out_exp, out_act, lrate):\r\n",
    "    for i in range(num_inputs):\r\n",
    "        weights[i] += lrate*(out_exp-out_act)*inputs[i]\r\n",
    "    weights[num_inputs] += lrate*(out_exp-out_act)*1.0\r\n",
    "\r\n",
    "def test_weights(weights, domain, num_inputs):\r\n",
    "    correct = 0\r\n",
    "    for pattern in domain:\r\n",
    "        input_vector = pattern[:num_inputs]\r\n",
    "        output = get_output(weights, input_vector)\r\n",
    "        \r\n",
    "        if round(output) == pattern[-1]: correct +=1\r\n",
    "\r\n",
    "    print ('******** Done ********')\r\n",
    "    print ('Test Score:{0} out of {1}'.format(correct, len(domain)))\r\n",
    "\r\n",
    "def train_weights(weights, domain, num_inputs, iterations, lrate):\r\n",
    "    for epoch in range(iterations):\r\n",
    "        error = 0.0\r\n",
    "        for pattern in domain:\r\n",
    "            inputs = pattern[:num_inputs]\r\n",
    "            output = get_output(weights, inputs)\r\n",
    "            expected = pattern[-1]\r\n",
    "            error += abs(output-expected)\r\n",
    "            update_weights(num_inputs, weights, inputs, expected, output, lrate)\r\n",
    "\r\n",
    "def execute(domain, num_inputs, iterations, learning_rate):\r\n",
    "   weights = initialize_weights(num_inputs)\r\n",
    "   train_weights(weights, domain, num_inputs, iterations, learning_rate)\r\n",
    "   test_weights(weights, domain, num_inputs)\r\n",
    "\r\n",
    "   return weights"
   ]
  },
  {
   "cell_type": "code",
   "execution_count": 106,
   "metadata": {},
   "outputs": [
    {
     "name": "stdout",
     "output_type": "stream",
     "text": [
      "******** Done ********\n",
      "Test Score is 4 out of 4\n"
     ]
    },
    {
     "data": {
      "text/plain": "[-0.4033842107768779, 0.4294623601166969, -0.018764669312161114]"
     },
     "execution_count": 106,
     "metadata": {},
     "output_type": "execute_result"
    }
   ],
   "source": [
    "or_problem = [[0,0,0], [0,1,1], [1,0,0], [1,1,1]]\r\n",
    "inputs = 2\r\n",
    "iterations = 20\r\n",
    "learning_rate = 0.1\r\n",
    "\r\n",
    "execute(or_problem, inputs, iterations, learning_rate)"
   ]
  }
 ],
 "metadata": {
  "kernelspec": {
   "display_name": "Python 3.8.5 64-bit (conda)",
   "name": "python385jvsc74a57bd017b56a6b39e308035872684835eb04f755da8115281032d2c9376bc9cde8ac01"
  },
  "language_info": {
   "codemirror_mode": {
    "name": "ipython",
    "version": 3
   },
   "file_extension": ".py",
   "mimetype": "text/x-python",
   "name": "python",
   "nbconvert_exporter": "python",
   "pygments_lexer": "ipython3",
   "version": "3.8.5"
  },
  "orig_nbformat": 2
 },
 "nbformat": 4,
 "nbformat_minor": 2
}