{
 "cells": [
  {
   "cell_type": "code",
   "execution_count": null,
   "metadata": {},
   "outputs": [],
   "source": [
    "import random"
   ]
  },
  {
   "cell_type": "code",
   "execution_count": null,
   "metadata": {},
   "outputs": [],
   "source": [
    "def objective_function(vector):\r\n",
    "    '''\r\n",
    "    Description:\r\n",
    "        This function will calculate the 'cost' for the given vector. The cost is simply the sum of the squares \r\n",
    "        of the individual vectors\r\n",
    "\r\n",
    "    Input\r\n",
    "        vector (list): a list of two floats for the cost calculation\r\n",
    "\r\n",
    "    Output:\r\n",
    "        (Float): sum of the squares of the two vectors\r\n",
    "    '''\r\n",
    "    return sum([i**2 for i in vector])\r\n",
    "\r\n",
    "def random_vector(minmax):\r\n",
    "    '''\r\n",
    "    Description:\r\n",
    "        This function will take a series of bounds and generate a random number \r\n",
    "\r\n",
    "    Input:\r\n",
    "        minmax (List): list of the upper and lower bounds for the function (optimization window)\r\n",
    "\r\n",
    "    Output:\r\n",
    "        (List): List of two floats. Cnadidates for the function optimization. \r\n",
    "    '''\r\n",
    "    return [i[0] + ((i[1]-i[0]) * random.random()) for i in minmax]"
   ]
  },
  {
   "cell_type": "code",
   "execution_count": null,
   "metadata": {},
   "outputs": [],
   "source": [
    "def search(search_space, max_iter):\\\r\n",
    "    '''\r\n",
    "    Description:\r\n",
    "        Function handles all of the searching for the minimum of the function\r\n",
    "\r\n",
    "    Input:\r\n",
    "        search_space (List): List of min/max vectors that determine where the alogirthm will search for a solution\r\n",
    "        max_ier (int): Number of iterations for the algorithm.\r\n",
    "\r\n",
    "    Output:\r\n",
    "        best (dictionary): The cost fo the best solution and the vector associated with it.\r\n",
    "    '''\r\n",
    "    best = {'candidate': [], 'cost': None}\r\n",
    "    for iters in range(max_iter):\r\n",
    "        candidate = {'vector': [], 'cost': None}\r\n",
    "        candidate['vector'] = random_vector(search_space)\r\n",
    "        candidate['cost'] = objective_function(candidate['vector'])\r\n",
    "\r\n",
    "        if  (best['cost'] is None) or (candidate['cost'] < best['cost']):\r\n",
    "            best = candidate.copy()\r\n",
    "\r\n",
    "        print('Iteration: {0}; Best: {1}'.format(iters, best['cost']))\r\n",
    "\r\n",
    "    return best"
   ]
  },
  {
   "cell_type": "code",
   "execution_count": null,
   "metadata": {},
   "outputs": [],
   "source": [
    "problem_size = 2\r\n",
    "search_space = [[-5, 5] for i in range(problem_size)]\r\n",
    "max_iter = 100\r\n",
    "\r\n",
    "best = search(search_space, max_iter)\r\n",
    "print('******** Done ********')\r\n",
    "print(\"Best Solution is: Cost: {0}; Vector: {1}\".format(best['vector'], best['cost']))"
   ]
  }
 ],
 "metadata": {
  "kernelspec": {
   "display_name": "Python 3.8.5 64-bit ('daniel.brooks': virtualenv)",
   "metadata": {
    "interpreter": {
     "hash": "17b56a6b39e308035872684835eb04f755da8115281032d2c9376bc9cde8ac01"
    }
   },
   "name": "python3"
  },
  "language_info": {
   "codemirror_mode": {
    "name": "ipython",
    "version": 3
   },
   "file_extension": ".py",
   "mimetype": "text/x-python",
   "name": "python",
   "nbconvert_exporter": "python",
   "pygments_lexer": "ipython3",
   "version": "3.8.5"
  },
  "orig_nbformat": 2
 },
 "nbformat": 4,
 "nbformat_minor": 2
}