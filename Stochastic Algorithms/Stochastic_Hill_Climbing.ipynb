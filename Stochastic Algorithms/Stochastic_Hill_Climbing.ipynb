{
 "cells": [
  {
   "cell_type": "code",
   "execution_count": null,
   "metadata": {},
   "outputs": [],
   "source": [
    "import random"
   ]
  },
  {
   "cell_type": "code",
   "execution_count": null,
   "metadata": {},
   "outputs": [],
   "source": [
    "def onemax(vector):\r\n",
    "    '''\r\n",
    "    Description:\r\n",
    "        Calcualte the cost\r\n",
    "\r\n",
    "    Input:\r\n",
    "        vector (list): series of binary bits\r\n",
    "\r\n",
    "    Ouptut:\r\n",
    "        (Int): sum of all the bits\r\n",
    "    '''\r\n",
    "    return sum(vector)\r\n",
    "\r\n",
    "def random_bitstring(num_bits):\r\n",
    "    '''\r\n",
    "    Description:\r\n",
    "        Creates a random bitstring\r\n",
    "    \r\n",
    "    Input:\r\n",
    "        num_bits (Int): The number of bits\r\n",
    "\r\n",
    "    Output:\r\n",
    "        (List): Randomized binary list of bits\r\n",
    "    '''\r\n",
    "    return [1 if random.random() > .50 else 0 for i in range(num_bits)]\r\n",
    "\r\n",
    "def random_neighbor(bitstring):\r\n",
    "    '''\r\n",
    "    Description:\r\n",
    "        Find a neighbor of the current bit string\r\n",
    "\r\n",
    "    Input:\r\n",
    "        bitstring (list): Current candidate bitstring\r\n",
    "    \r\n",
    "    Output:\r\n",
    "        mutant (List): A neighbor to the candidate bitstring\r\n",
    "    '''\r\n",
    "    mutant = bitstring.copy()\r\n",
    "    pos = random.sample(range(len(bitstring)), 1)[0]\r\n",
    "\r\n",
    "    if mutant[pos] == 0:\r\n",
    "        mutant[pos] = 1\r\n",
    "    else:\r\n",
    "        mutant[pos] = 0\r\n",
    "\r\n",
    "    return mutant\r\n",
    "\r\n",
    "def search(max_iterations, num_bits):\r\n",
    "    '''\r\n",
    "    Description:\r\n",
    "        Loop through the iterations to find a possible optimal solution\r\n",
    "\r\n",
    "    Input:\r\n",
    "        max_iterations (int): The maximum number of iterations the algorithm will complete\r\n",
    "        num_bits (Int): The number of bits in the bitstrings\r\n",
    "\r\n",
    "    Output:\r\n",
    "        candidate (dictionary): The cost and bitstring of the optimal soltuion.\r\n",
    "    '''\r\n",
    "    candidate = {'vector': [], 'cost': None}\r\n",
    "\r\n",
    "    candidate['vector'] = random_bitstring(num_bits)\r\n",
    "    candidate['cost'] = onemax(candidate['vector'])\r\n",
    "\r\n",
    "    for i in range(max_iterations):\r\n",
    "        neighbor = {'vector': [], 'cost': None}\r\n",
    "\r\n",
    "        neighbor['vector'] = random_neighbor(candidate['vector'])\r\n",
    "        neighbor['cost'] = onemax(neighbor['vector'])\r\n",
    "\r\n",
    "        if neighbor['cost'] > candidate['cost']:\r\n",
    "            candidate = neighbor.copy()\r\n",
    "\r\n",
    "        print('Iteration: {0}; Best: {1}'.format(i, candidate['cost']))\r\n",
    "        \r\n",
    "        if candidate['cost'] == num_bits: break\r\n",
    "\r\n",
    "    return candidate"
   ]
  },
  {
   "cell_type": "code",
   "execution_count": null,
   "metadata": {},
   "outputs": [],
   "source": [
    "num_bits = 64\r\n",
    "max_iterations = 1000\r\n",
    "best = search(max_iterations, num_bits)\r\n",
    "\r\n",
    "print('******** Done ********')\r\n",
    "print(\"Best Solution is: Cost: {0}; Vector: {1}\".format(best['vector'], best['cost']))"
   ]
  }
 ],
 "metadata": {
  "kernelspec": {
   "display_name": "Python 3.8.5 64-bit (conda)",
   "metadata": {
    "interpreter": {
     "hash": "17b56a6b39e308035872684835eb04f755da8115281032d2c9376bc9cde8ac01"
    }
   },
   "name": "python3"
  },
  "language_info": {
   "codemirror_mode": {
    "name": "ipython",
    "version": 3
   },
   "file_extension": ".py",
   "mimetype": "text/x-python",
   "name": "python",
   "nbconvert_exporter": "python",
   "pygments_lexer": "ipython3",
   "version": "3.8.5"
  },
  "orig_nbformat": 2
 },
 "nbformat": 4,
 "nbformat_minor": 2
}